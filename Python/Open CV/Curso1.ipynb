{
 "cells": [
  {
   "cell_type": "code",
   "execution_count": 1,
   "id": "a4c775c1-f063-4c0b-b118-19bc7d9ce2df",
   "metadata": {},
   "outputs": [],
   "source": [
    "import numpy as np"
   ]
  },
  {
   "cell_type": "code",
   "execution_count": 2,
   "id": "213a2c29-984a-4b72-be8a-6cb59f55cf1e",
   "metadata": {},
   "outputs": [],
   "source": [
    "lista = [1,2,3]\n",
    "array = np.array(lista)"
   ]
  },
  {
   "cell_type": "code",
   "execution_count": 3,
   "id": "95db430c-cdc1-427f-9480-58a11a02d74e",
   "metadata": {},
   "outputs": [
    {
     "data": {
      "text/plain": [
       "array([1, 2, 3])"
      ]
     },
     "execution_count": 3,
     "metadata": {},
     "output_type": "execute_result"
    }
   ],
   "source": [
    "array"
   ]
  },
  {
   "cell_type": "code",
   "execution_count": 4,
   "id": "7600ef5b-5d38-4469-a6b6-1808f1650582",
   "metadata": {},
   "outputs": [
    {
     "data": {
      "text/plain": [
       "np.int64(1)"
      ]
     },
     "execution_count": 4,
     "metadata": {},
     "output_type": "execute_result"
    }
   ],
   "source": [
    "array[0]"
   ]
  },
  {
   "cell_type": "code",
   "execution_count": 5,
   "id": "02a6a6f5-b575-472c-84d7-9d58a8a5c2ad",
   "metadata": {},
   "outputs": [
    {
     "data": {
      "text/plain": [
       "array([ 5,  7,  9, 11, 13, 15, 17, 19, 21, 23, 25, 27, 29])"
      ]
     },
     "execution_count": 5,
     "metadata": {},
     "output_type": "execute_result"
    }
   ],
   "source": [
    "np.arange(5,30,2)"
   ]
  },
  {
   "cell_type": "code",
   "execution_count": 6,
   "id": "0d538c0e-8690-489a-b84f-6b15aa856d65",
   "metadata": {},
   "outputs": [
    {
     "data": {
      "text/plain": [
       "array([[0., 0.],\n",
       "       [0., 0.],\n",
       "       [0., 0.],\n",
       "       [0., 0.],\n",
       "       [0., 0.],\n",
       "       [0., 0.],\n",
       "       [0., 0.],\n",
       "       [0., 0.],\n",
       "       [0., 0.],\n",
       "       [0., 0.]])"
      ]
     },
     "execution_count": 6,
     "metadata": {},
     "output_type": "execute_result"
    }
   ],
   "source": [
    "np.zeros(shape= (10,2))"
   ]
  },
  {
   "cell_type": "code",
   "execution_count": 7,
   "id": "c6d2a8fb-0d1c-41a8-9a0b-a9f1ae027f9a",
   "metadata": {},
   "outputs": [],
   "source": [
    "aleatorios = np.random.randint(0,100,50)"
   ]
  },
  {
   "cell_type": "code",
   "execution_count": 8,
   "id": "f8f6c6bd-9b06-453a-8234-cf0b7bce585f",
   "metadata": {},
   "outputs": [
    {
     "data": {
      "text/plain": [
       "array([ 6, 96, 87, 11, 55, 16, 16, 19, 92, 79, 29, 85, 35, 92, 81, 50,  5,\n",
       "       19, 34,  7, 57, 54, 86, 12, 29,  3, 72, 24, 53, 39, 74, 28, 59, 81,\n",
       "       41, 56, 81, 79, 99, 95, 37, 23, 38,  9,  3, 71, 16, 39, 73, 52])"
      ]
     },
     "execution_count": 8,
     "metadata": {},
     "output_type": "execute_result"
    }
   ],
   "source": [
    "aleatorios"
   ]
  },
  {
   "cell_type": "code",
   "execution_count": 9,
   "id": "1a3082ef-d294-4ce6-9bd3-b0b5bb0dc4fd",
   "metadata": {},
   "outputs": [
    {
     "data": {
      "text/plain": [
       "np.int64(38)"
      ]
     },
     "execution_count": 9,
     "metadata": {},
     "output_type": "execute_result"
    }
   ],
   "source": [
    "aleatorios.argmax()"
   ]
  },
  {
   "cell_type": "code",
   "execution_count": 10,
   "id": "4afeaac7-0826-471c-af34-f63d3cfb912a",
   "metadata": {},
   "outputs": [
    {
     "data": {
      "text/plain": [
       "np.int64(99)"
      ]
     },
     "execution_count": 10,
     "metadata": {},
     "output_type": "execute_result"
    }
   ],
   "source": [
    "aleatorios.max()"
   ]
  },
  {
   "cell_type": "code",
   "execution_count": 11,
   "id": "394e7ebe-3909-4994-b9b8-d1705f00ee97",
   "metadata": {},
   "outputs": [
    {
     "data": {
      "text/plain": [
       "(50,)"
      ]
     },
     "execution_count": 11,
     "metadata": {},
     "output_type": "execute_result"
    }
   ],
   "source": [
    "aleatorios.shape"
   ]
  },
  {
   "cell_type": "code",
   "execution_count": 58,
   "id": "bb29f99d-781f-42d0-8f1f-842239729394",
   "metadata": {},
   "outputs": [
    {
     "data": {
      "text/plain": [
       "array([[51, 65, 65, 51, 76],\n",
       "       [21, 83, 32, 38, 44],\n",
       "       [ 5, 18, 58, 78, 77],\n",
       "       [83, 25, 97, 36, 82],\n",
       "       [34, 75, 64, 79, 91],\n",
       "       [ 7, 28, 29, 83, 31],\n",
       "       [85, 18, 61, 93, 68],\n",
       "       [63, 25, 17, 15,  0],\n",
       "       [78, 32, 73, 85, 98],\n",
       "       [ 4, 40, 61, 44, 70]])"
      ]
     },
     "execution_count": 58,
     "metadata": {},
     "output_type": "execute_result"
    }
   ],
   "source": [
    "aleatorios.reshape(10,5)"
   ]
  },
  {
   "cell_type": "code",
   "execution_count": 60,
   "id": "cf294711-f006-43c9-8c38-c8fdeb2158e1",
   "metadata": {},
   "outputs": [
    {
     "data": {
      "text/plain": [
       "(50,)"
      ]
     },
     "execution_count": 60,
     "metadata": {},
     "output_type": "execute_result"
    }
   ],
   "source": [
    "aleatorios.shape"
   ]
  },
  {
   "cell_type": "code",
   "execution_count": 62,
   "id": "e2153b6e-a478-4765-8adb-bde7791f19e2",
   "metadata": {},
   "outputs": [],
   "source": [
    "aleatorios = aleatorios.reshape(10, 5)"
   ]
  },
  {
   "cell_type": "code",
   "execution_count": 64,
   "id": "77d0bc29-2a61-4f78-a2db-b94508fdd27a",
   "metadata": {},
   "outputs": [
    {
     "data": {
      "text/plain": [
       "array([[51, 65, 65, 51, 76],\n",
       "       [21, 83, 32, 38, 44],\n",
       "       [ 5, 18, 58, 78, 77],\n",
       "       [83, 25, 97, 36, 82],\n",
       "       [34, 75, 64, 79, 91],\n",
       "       [ 7, 28, 29, 83, 31],\n",
       "       [85, 18, 61, 93, 68],\n",
       "       [63, 25, 17, 15,  0],\n",
       "       [78, 32, 73, 85, 98],\n",
       "       [ 4, 40, 61, 44, 70]])"
      ]
     },
     "execution_count": 64,
     "metadata": {},
     "output_type": "execute_result"
    }
   ],
   "source": [
    "aleatorios"
   ]
  },
  {
   "cell_type": "code",
   "execution_count": 66,
   "id": "2b25c58b-f1c3-4b95-8662-505a2c68f13d",
   "metadata": {},
   "outputs": [],
   "source": [
    "aleatorios = aleatorios.reshape(10, 5)\n"
   ]
  },
  {
   "cell_type": "code",
   "execution_count": 68,
   "id": "3c527ca6-b579-4904-b783-66de2429b483",
   "metadata": {},
   "outputs": [
    {
     "data": {
      "text/plain": [
       "51"
      ]
     },
     "execution_count": 68,
     "metadata": {},
     "output_type": "execute_result"
    }
   ],
   "source": [
    "aleatorios[0,0]"
   ]
  },
  {
   "cell_type": "code",
   "execution_count": null,
   "id": "36abfec0-6130-4c3d-b1f5-1e9f59811ef9",
   "metadata": {},
   "outputs": [],
   "source": []
  }
 ],
 "metadata": {
  "kernelspec": {
   "display_name": "Python 3 (ipykernel)",
   "language": "python",
   "name": "python3"
  },
  "language_info": {
   "codemirror_mode": {
    "name": "ipython",
    "version": 3
   },
   "file_extension": ".py",
   "mimetype": "text/x-python",
   "name": "python",
   "nbconvert_exporter": "python",
   "pygments_lexer": "ipython3",
   "version": "3.12.6"
  }
 },
 "nbformat": 4,
 "nbformat_minor": 5
}
