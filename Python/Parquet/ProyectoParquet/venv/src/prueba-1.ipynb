{
 "cells": [
  {
   "cell_type": "code",
   "execution_count": 2,
   "metadata": {},
   "outputs": [],
   "source": [
    "import pandas as pd\n",
    "import pyarrow.parquet as pq"
   ]
  },
  {
   "cell_type": "code",
   "execution_count": 3,
   "metadata": {},
   "outputs": [
    {
     "name": "stdout",
     "output_type": "stream",
     "text": [
      "film_name         object\n",
      "gender            object\n",
      "film_avg_rate    float16\n",
      "review_rate        uint8\n",
      "review_title      object\n",
      "review_text       object\n",
      "dtype: object\n"
     ]
    }
   ],
   "source": [
    "# Lee el archivo CSV\n",
    "df = pd.read_csv('film_reviews_result.csv', sep='|', quotechar='\"', decimal=',')\n",
    "\n",
    "df['film_name'] = df['film_name'].astype('str')\n",
    "df['gender'] = df['gender'].astype('str')\n",
    "df['film_avg_rate'] = df['film_avg_rate'].astype('float16')\n",
    "df['review_rate'] = df['review_rate'].astype('uint8')\n",
    "df['review_title'] = df['review_title'].astype('str')\n",
    "df['review_text'] = df['review_text'].astype('str')\n",
    "\n",
    "print(df.dtypes)\n"
   ]
  },
  {
   "cell_type": "code",
   "execution_count": 4,
   "metadata": {},
   "outputs": [],
   "source": [
    "# Guarda el DataFrame como un archivo Parquet\n",
    "df.to_parquet('reviews.parquet', engine='pyarrow', compression='snappy')"
   ]
  },
  {
   "cell_type": "code",
   "execution_count": 5,
   "metadata": {},
   "outputs": [],
   "source": [
    "# Lee el archivo Parquet\n",
    "#parquet_file = pq.ParquetFile('reviews.parquet')"
   ]
  },
  {
   "cell_type": "code",
   "execution_count": 17,
   "metadata": {},
   "outputs": [
    {
     "name": "stdout",
     "output_type": "stream",
     "text": [
      "<pyarrow._parquet.ParquetSchema object at 0x7fd740255040>\n",
      "required group field_id=-1 schema {\n",
      "  optional binary field_id=-1 film_name (String);\n",
      "  optional binary field_id=-1 gender (String);\n",
      "  optional fixed_len_byte_array(2) field_id=-1 film_avg_rate (Float16);\n",
      "  optional int32 field_id=-1 review_rate (Int(bitWidth=8, isSigned=false));\n",
      "  optional binary field_id=-1 review_title (String);\n",
      "  optional binary field_id=-1 review_text (String);\n",
      "}\n",
      "\n"
     ]
    }
   ],
   "source": [
    "# Muestra el esquema inferido\n",
    "#print(parquet_file.schema)"
   ]
  },
  {
   "cell_type": "code",
   "execution_count": 24,
   "metadata": {},
   "outputs": [],
   "source": [
    "# Lee el archivo Parquet utilizando PyArrow\n",
    "table = pq.read_table('reviews.parquet')\n",
    "\n",
    "# Convierte la tabla de PyArrow a un DataFrame de Pandas\n",
    "df1 = table.to_pandas()\n"
   ]
  },
  {
   "cell_type": "code",
   "execution_count": 25,
   "metadata": {},
   "outputs": [
    {
     "name": "stdout",
     "output_type": "stream",
     "text": [
      "10058\n"
     ]
    }
   ],
   "source": [
    "print(len(df1))"
   ]
  },
  {
   "cell_type": "code",
   "execution_count": 26,
   "metadata": {},
   "outputs": [
    {
     "name": "stdout",
     "output_type": "stream",
     "text": [
      "                                      film_name  film_avg_rate\n",
      "0                    (Des)encanto (Serie de TV)       6.101562\n",
      "1                    10 días de un buen hombre        4.800781\n",
      "2                     10 días de un mal hombre        4.300781\n",
      "3                            1670 (Serie de TV)       6.500000\n",
      "4                            1899 (Serie de TV)       6.101562\n",
      "..                                          ...            ...\n",
      "761       ¿Qué le pasó al rey de los delfines?        6.000000\n",
      "762                         Élite (Serie de TV)       5.398438\n",
      "763                 Érase una vez un asesinato        4.199219\n",
      "764               Última llamada para Estambul        4.300781\n",
      "765  Ōoku: Los aposentos privados (Serie de TV)       6.398438\n",
      "\n",
      "[766 rows x 2 columns]\n"
     ]
    },
    {
     "name": "stderr",
     "output_type": "stream",
     "text": [
      "/home/adrianwerle/.local/lib/python3.12/site-packages/pandas/io/formats/format.py:1458: RuntimeWarning: overflow encountered in cast\n",
      "  has_large_values = (abs_vals > 1e6).any()\n"
     ]
    }
   ],
   "source": [
    "# Agrupa los datos por 'film_name' y 'gender' y calcula el promedio de 'film_avg_rate'\n",
    "promedios = df1.groupby(['film_name'])['film_avg_rate'].mean().reset_index()\n",
    "\n",
    "# Imprime el resultado\n",
    "print(promedios)"
   ]
  },
  {
   "cell_type": "code",
   "execution_count": null,
   "metadata": {},
   "outputs": [],
   "source": []
  }
 ],
 "metadata": {
  "kernelspec": {
   "display_name": "Python 3",
   "language": "python",
   "name": "python3"
  },
  "language_info": {
   "codemirror_mode": {
    "name": "ipython",
    "version": 3
   },
   "file_extension": ".py",
   "mimetype": "text/x-python",
   "name": "python",
   "nbconvert_exporter": "python",
   "pygments_lexer": "ipython3",
   "version": "3.11.9"
  }
 },
 "nbformat": 4,
 "nbformat_minor": 2
}
